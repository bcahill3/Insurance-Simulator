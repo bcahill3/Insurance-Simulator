{
 "cells": [
  {
   "cell_type": "code",
   "execution_count": 19,
   "metadata": {},
   "outputs": [],
   "source": [
    "class Calculator( object ):\n",
    "    def calcFullDamage( self, premium, year, deductable ):\n",
    "        return premium*year+deductable\n",
    "\n",
    "    def calcNoDamage( self, premium, year, deductable ):\n",
    "        return premium*year\n",
    "\n",
    "    #def calcPartialDamage( self, premium, year, deductable ):\n",
    "    #    return premium*year+deductable"
   ]
  },
  {
   "cell_type": "code",
   "execution_count": 20,
   "metadata": {},
   "outputs": [
    {
     "data": {
      "text/plain": [
       "{'FullDamage':               1     2     3     4     5     6     7     8     9     10\n",
       " 0 | 170      170   340   510   680   850  1020  1190  1360  1530  1700\n",
       " 100 | 158    258   416   574   732   890  1048  1206  1364  1522  1680\n",
       " 250 | 153    403   556   709   862  1015  1168  1321  1474  1627  1780\n",
       " 500 | 146    646   792   938  1084  1230  1376  1522  1668  1814  1960\n",
       " 1000 | 139  1139  1278  1417  1556  1695  1834  1973  2112  2251  2390,\n",
       " 'NoDamage':              1    2    3    4    5     6     7     8     9     10\n",
       " 0 | 170     170  340  510  680  850  1020  1190  1360  1530  1700\n",
       " 100 | 158   158  316  474  632  790   948  1106  1264  1422  1580\n",
       " 250 | 153   153  306  459  612  765   918  1071  1224  1377  1530\n",
       " 500 | 146   146  292  438  584  730   876  1022  1168  1314  1460\n",
       " 1000 | 139  139  278  417  556  695   834   973  1112  1251  1390}"
      ]
     },
     "execution_count": 20,
     "metadata": {},
     "output_type": "execute_result"
    }
   ],
   "source": [
    "import pandas\n",
    "import six\n",
    "\n",
    "simulations = { 'FullDamage': None, 'NoDamage': None }#, 'PartialDamage': None }\n",
    "calculator  = Calculator()\n",
    "years       = range(1,11)\n",
    "options     = { 0   :170,\n",
    "                100 :158,\n",
    "                250 :153,\n",
    "                500 :146,\n",
    "                1000:139 }\n",
    "\n",
    "def getKeys( d ):\n",
    "    return [ '{0} | {1}'.format( x, y ) for x, y in six.iteritems( d ) ]\n",
    "\n",
    "for sim in simulations.keys():\n",
    "    rows = []\n",
    "    func = getattr( calculator, 'calc{0}'.format( sim ) ) \n",
    "    for deductable, premium in six.iteritems( options ):\n",
    "        row = [ func( premium, year, deductable ) for year in years ]\n",
    "        rows.append(row)\n",
    "    result = pandas.DataFrame( index=getKeys( options ), columns=years, data=rows )\n",
    "    simulations[ sim ] = result\n",
    "\n",
    "    \n",
    "simulations"
   ]
  }
 ],
 "metadata": {
  "kernelspec": {
   "display_name": "Python 3",
   "language": "python",
   "name": "python3"
  },
  "language_info": {
   "codemirror_mode": {
    "name": "ipython",
    "version": 3
   },
   "file_extension": ".py",
   "mimetype": "text/x-python",
   "name": "python",
   "nbconvert_exporter": "python",
   "pygments_lexer": "ipython3",
   "version": "3.6.5"
  }
 },
 "nbformat": 4,
 "nbformat_minor": 2
}
